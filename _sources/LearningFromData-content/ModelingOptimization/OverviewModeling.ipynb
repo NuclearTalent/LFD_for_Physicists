{
 "cells": [
  {
   "cell_type": "markdown",
   "id": "e517132b",
   "metadata": {},
   "source": [
    "(sec:OverviewModeling)=\n",
    "# Overview of modeling\n",
    "\n",
    "```{epigraph}\n",
    "> \"All models are wrong, but some are useful.\"\n",
    "\n",
    "-- George Box, in *Robustness in Statistics* (1979)\n",
    "```"
   ]
  }
 ],
 "metadata": {
  "jupytext": {
   "formats": "md:myst",
   "text_representation": {
    "extension": ".md",
    "format_name": "myst"
   }
  },
  "kernelspec": {
   "display_name": "Python 3",
   "language": "python",
   "name": "python3"
  },
  "source_map": [
   11
  ]
 },
 "nbformat": 4,
 "nbformat_minor": 5
}