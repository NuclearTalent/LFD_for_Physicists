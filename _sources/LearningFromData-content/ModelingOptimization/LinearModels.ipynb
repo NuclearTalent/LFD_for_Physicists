{
 "cells": [
  {
   "cell_type": "markdown",
   "id": "6cbcfc88",
   "metadata": {},
   "source": [
    "<!-- !split -->\n",
    "(sec:LinearModels)=\n",
    "# Linear models\n",
    "\n",
    "```{epigraph}\n",
    "> \"As always in life, people want a simple answer; ... and it’s always wrong.\"\n",
    "\n",
    "-- Susan Greenfield\n",
    "```\n",
    "\n",
    "In this chapter we will discuss models $\\modeloutput$ that are linear in their parameters $\\pars$. Although linear models are simple, they are sometimes useful for analyzing real-world data."
   ]
  }
 ],
 "metadata": {
  "jupytext": {
   "formats": "md:myst",
   "text_representation": {
    "extension": ".md",
    "format_name": "myst"
   }
  },
  "kernelspec": {
   "display_name": "Python 3",
   "language": "python",
   "name": "python3"
  },
  "source_map": [
   11
  ]
 },
 "nbformat": 4,
 "nbformat_minor": 5
}