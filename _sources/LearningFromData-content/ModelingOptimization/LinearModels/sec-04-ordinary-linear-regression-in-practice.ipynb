{
 "cells": [
  {
   "cell_type": "markdown",
   "id": "6283fc33",
   "metadata": {},
   "source": [
    "(sec:ols_in_practice)=\n",
    "# Ordinary linear regression in practice\n",
    "\n",
    "We often have situation where we have much more than just two datapoints, and they rarely  fall exactly on a straight line. Let's use python to generate some more realistic, yet artificial, data. Using the function below you can generate data from some linear process with random variables for the underlying parameters. We call this a data-generating process."
   ]
  },
  {
   "cell_type": "code",
   "execution_count": 1,
   "id": "cdf599ea",
   "metadata": {},
   "outputs": [],
   "source": [
    "import numpy as np\n",
    "import pandas as pd\n",
    "import matplotlib.pyplot as plt\n",
    "\n",
    "def data_generating_process_reality(model_type, rng=np.random.default_rng(), **kwargs):\n",
    "  if model_type == 'polynomial':\n",
    "      true_params = rng.uniform(low=-5.0, high=5, size=(kwargs['poldeg']+1,))\n",
    "      #polynomial model   \n",
    "      def process(params, xdata):\n",
    "          ydata = np.polynomial.polynomial.polyval(xdata,params)\n",
    "          return ydata\n",
    "      \n",
    "  # use this to define a non-polynomial (possibly non-linear) data-generating process\n",
    "  elif model_type == 'nonlinear':\n",
    "      true_params = None\n",
    "      def process(params, xdata):\n",
    "          ydata = (0.5 + np.tan(np.pi*xdata))**2\n",
    "          return ydata           \n",
    "  else:\n",
    "      print(f'Unknown Model')\n",
    "      \n",
    "  # return function for the true process the values for the true parameters\n",
    "  # and the name of the model_type\n",
    "  return process, true_params, model_type    "
   ]
  },
  {
   "cell_type": "markdown",
   "id": "c66d1c81",
   "metadata": {},
   "source": [
    "Next, we make some measurements of this process, and that typically entails some measurement errors. We will here assume that independently and identically distributed (i.i.d.) measurement errors $e_i$ that all follow a normal distribution with zero mean and variance $\\sigma_e^2$. In a statistical notation we write $e_i \\sim \\mathcal{N}(0,\\sigma_e^2)$. By default, we set $\\sigma_e = 0.5$."
   ]
  },
  {
   "cell_type": "code",
   "execution_count": 2,
   "id": "e80e4c87",
   "metadata": {},
   "outputs": [],
   "source": [
    "def data_generating_process_measurement(process, params, xdata, \n",
    "                           sigma_error=0.5, rng=np.random.default_rng()):\n",
    "      \n",
    "  ydata = process(params, xdata)\n",
    "  \n",
    "  #  sigma_error: measurement error. \n",
    "  error = rng.normal(0,sigma_error,len(xdata)).reshape(-1,1)\n",
    "\n",
    "  return ydata+error, sigma_error*np.ones(len(xdata)).reshape(-1,)"
   ]
  },
  {
   "cell_type": "markdown",
   "id": "7499ce96",
   "metadata": {},
   "source": [
    "Let us setup the data-generating process, in this case a linear process of polynomial degree 1, and decide how many measurements we make ($N_d=10$). All relevant output is stored in pandas dataframes."
   ]
  },
  {
   "cell_type": "code",
   "execution_count": 3,
   "id": "d07cb86d",
   "metadata": {},
   "outputs": [
    {
     "name": "stdout",
     "output_type": "stream",
     "text": [
      "model type      : polynomial\n",
      "true parameters : [ 1.31722201 -4.60595966]\n",
      "Nd = 10\n"
     ]
    }
   ],
   "source": [
    "#the number of data points to collect\n",
    "# -----\n",
    "Nd = 10\n",
    "# -----\n",
    "\n",
    "# predictor values\n",
    "xmin = -1 ; xmax = +1\n",
    "Xmeasurement = np.linspace(xmin,xmax,Nd).reshape(-1,1)\n",
    "# store it in a pandas dataframe\n",
    "pd_Xmeasurement = pd.DataFrame(Xmeasurement, columns=['x'])\n",
    "\n",
    "# Define the data-generating process.\n",
    "# Begin with a polynomial (poldeg=1) model_type\n",
    "# in a second run of this notebook you can play with other linear models\n",
    "reality, true_params, model_type = data_generating_process_reality(model_type='polynomial',poldeg=1)\n",
    "\n",
    "print(f'model type      : {model_type}')\n",
    "print(f'true parameters : {true_params}')\n",
    "print(f'Nd = {Nd}')\n",
    "\n",
    "# Collect measured data\n",
    "# -----\n",
    "sigma_e = 0.5\n",
    "# -----\n",
    "Ydata, Yerror = data_generating_process_measurement(reality,true_params,Xmeasurement,sigma_error=sigma_e)\n",
    "# store the data in a pandas dataframe\n",
    "pd_D=pd.DataFrame(Ydata,columns=['data'])\n",
    "# \n",
    "pd_D['x'] = Xmeasurement\n",
    "pd_D['e'] = Yerror\n",
    "\n",
    "# We will also produce a denser grid for predictions with our model and comparison with the true process. This is useful for plotting\n",
    "   \n",
    "xreality = np.linspace(xmin,xmax,200).reshape(-1,1)\n",
    "pd_R = pd.DataFrame(reality(true_params,xreality), columns=['data'])\n",
    "pd_R['x'] = xreality"
   ]
  },
  {
   "cell_type": "markdown",
   "id": "e82d3233",
   "metadata": {},
   "source": [
    "Create some analysis tool to inspect the data, and later on the model."
   ]
  },
  {
   "cell_type": "code",
   "execution_count": 4,
   "id": "95e12c7a",
   "metadata": {},
   "outputs": [],
   "source": [
    "# helper function to plot data, reality, and model (pd_M)\n",
    "def plot_data(pd_D, pd_R, pd_M, with_errorbars = True):\n",
    "    fig, ax = plt.subplots(1,1,figsize=(8,6))\n",
    "    ax.scatter(pd_D['x'],pd_D['data'],label=r'Data',color='black',zorder=1, alpha=0.9,s=70,marker=\"d\");\n",
    "    if with_errorbars:\n",
    "        ax.errorbar(pd_D['x'],pd_D['data'], pd_D['e'],fmt='o', ms=0, color='black');\n",
    "    if pd_R is not None:\n",
    "        ax.plot(pd_R['x'], pd_R['data'],color='red', linestyle='--',lw=3,label='Reality',zorder=10)\n",
    "    if pd_M is not None:\n",
    "        ax.plot(pd_M['x'], pd_M['data'],color='blue', linestyle='--',lw=3,label='Model',zorder=11)\n",
    "    ax.legend();\n",
    "    ax.set_title('Collected data');\n",
    "    ax.set_xlabel(r'Predictor $x$');\n",
    "    ax.set_ylabel(r'Response $y$');\n",
    "    return fig,ax"
   ]
  },
  {
   "cell_type": "markdown",
   "id": "14656b63",
   "metadata": {},
   "source": [
    "Let's have a look at the data. We set the last two arguments to `None` for visualizing only the data."
   ]
  },
  {
   "cell_type": "code",
   "execution_count": 5,
   "id": "fc922b96",
   "metadata": {},
   "outputs": [
    {
     "data": {
      "image/png": "[encoded data removed]",
      "text/plain": [
       "<Figure size 800x600 with 1 Axes>"
      ]
     },
     "metadata": {},
     "output_type": "display_data"
    }
   ],
   "source": [
    "plot_data(pd_D, None, None);"
   ]
  },
  {
   "cell_type": "markdown",
   "id": "8884ca19",
   "metadata": {},
   "source": [
    "Linear regression proceeds via the design matrix. We will analyze this data using a linear polynomial model of order 1. The following code will allow you to setup the corresponding design matrix $\\dmat$ for any polynomial order (referred to as poldeg below)"
   ]
  },
  {
   "cell_type": "code",
   "execution_count": 6,
   "id": "0793ed04",
   "metadata": {},
   "outputs": [],
   "source": [
    "def setup_polynomial_design_matrix(data_frame, poldeg, drop_constant=False, verbose=True):\n",
    "    if verbose:\n",
    "        print('setting up design matrix:')\n",
    "        print('  len(data):', len(data_frame.index))\n",
    "\n",
    "        # for polynomial models: x^0, x^1, x^2, ..., x^p\n",
    "        # use numpy increasing vandermonde matrix\n",
    "        print('  model poldeg:',poldeg)\n",
    "    \n",
    "    predictors = np.vander(data_frame['x'].to_numpy(), poldeg+1, increasing = True)\n",
    "    if drop_constant:\n",
    "        predictors = np.delete(predictors, 0, 1)\n",
    "        if verbose:\n",
    "            print('  dropping constant term')\n",
    "    pd_design_matrix = pd.DataFrame(predictors)\n",
    "        \n",
    "    return pd_design_matrix"
   ]
  },
  {
   "cell_type": "markdown",
   "id": "a3a8aee9",
   "metadata": {},
   "source": [
    "So, let's setup the design matrix for a model with polynomial basis functions. Note that there are $N_p$ parameters in a polynomial function of order $N_p-1$\n",
    "\n",
    "$$\n",
    "M(\\pars;\\inputt) = \\theta_0 + \\theta_1 \\inputt.\n",
    "$$"
   ]
  },
  {
   "cell_type": "code",
   "execution_count": 7,
   "id": "2e7cfc97",
   "metadata": {},
   "outputs": [
    {
     "name": "stdout",
     "output_type": "stream",
     "text": [
      "setting up design matrix:\n",
      "  len(data): 10\n",
      "  model poldeg: 1\n"
     ]
    }
   ],
   "source": [
    "Np=2\n",
    "pd_X = setup_polynomial_design_matrix(pd_Xmeasurement,poldeg=Np-1)"
   ]
  },
  {
   "cell_type": "markdown",
   "id": "169bbd44",
   "metadata": {},
   "source": [
    "We can now perform linear regression, or ordinary least squares (OLS), as"
   ]
  },
  {
   "cell_type": "code",
   "execution_count": 8,
   "id": "48a39b9b",
   "metadata": {},
   "outputs": [
    {
     "name": "stdout",
     "output_type": "stream",
     "text": [
      "Ndata = 10\n",
      "theta_ols \t[ 1.22595663 -4.53772364]\n",
      "theta_true \t[ 1.31722201 -4.60595966]\n",
      "\n"
     ]
    }
   ],
   "source": [
    "#ols estimator for physical parameter theta\n",
    "D = pd_D['data'].to_numpy()\n",
    "X = pd_X.to_numpy()\n",
    "\n",
    "ols_cov   = np.linalg.inv(np.matmul(X.T,X))\n",
    "ols_xTd   = np.matmul(X.T,D)\n",
    "ols_theta = np.matmul(ols_cov,ols_xTd)\n",
    "\n",
    "print(f'Ndata = {Nd}')\n",
    "print(f'theta_ols \\t{ols_theta}')\n",
    "print(f'theta_true \\t{true_params}\\n')"
   ]
  },
  {
   "cell_type": "markdown",
   "id": "774bb003",
   "metadata": {},
   "source": [
    "To evaluate the (fitted) model we setup a design matrix that spans dense values across the relevant range of predictors."
   ]
  },
  {
   "cell_type": "code",
   "execution_count": 9,
   "id": "30c09e08",
   "metadata": {},
   "outputs": [
    {
     "name": "stdout",
     "output_type": "stream",
     "text": [
      "setting up design matrix:\n",
      "  len(data): 200\n",
      "  model poldeg: 1\n"
     ]
    }
   ],
   "source": [
    "pd_Xreality = setup_polynomial_design_matrix(pd_R,poldeg=Np-1)"
   ]
  },
  {
   "cell_type": "markdown",
   "id": "edcbd25a",
   "metadata": {},
   "source": [
    "and then we dot this with the fitted (ols) parameter values"
   ]
  },
  {
   "cell_type": "code",
   "execution_count": 10,
   "id": "5c0a19ba",
   "metadata": {},
   "outputs": [],
   "source": [
    "Xreality = pd_Xreality.to_numpy()\n",
    "pd_M_ols = pd.DataFrame(np.matmul(Xreality,ols_theta),columns=['data'])\n",
    "pd_M_ols['x'] = xreality"
   ]
  },
  {
   "cell_type": "markdown",
   "id": "c3c8fa08",
   "metadata": {},
   "source": [
    "A plot (which now includes the data-generating process 'reality') demonstrates the quality of the inference."
   ]
  },
  {
   "cell_type": "code",
   "execution_count": 11,
   "id": "9d3bbf4e",
   "metadata": {},
   "outputs": [
    {
     "data": {
      "image/png": "[encoded data removed]",
      "text/plain": [
       "<Figure size 800x600 with 1 Axes>"
      ]
     },
     "metadata": {},
     "output_type": "display_data"
    }
   ],
   "source": [
    "plot_data(pd_D, pd_R, pd_M_ols);"
   ]
  },
  {
   "cell_type": "markdown",
   "id": "1fc06479",
   "metadata": {},
   "source": [
    "To conclude, we also compute the sample variance $s^2$"
   ]
  },
  {
   "cell_type": "code",
   "execution_count": 12,
   "id": "b5b00520",
   "metadata": {},
   "outputs": [
    {
     "name": "stdout",
     "output_type": "stream",
     "text": [
      "s^2       \t0.373\n",
      "sigma_e^2 \t0.250\n"
     ]
    }
   ],
   "source": [
    "ols_D   = np.matmul(X,ols_theta)\n",
    "ols_eps = (ols_D - D)\n",
    "ols_s2 = (np.dot(ols_eps,ols_eps.T)/(Nd-Np))\n",
    "\n",
    "print(f's^2       \\t{ols_s2:.3f}')\n",
    "print(f'sigma_e^2 \\t{sigma_e**2:.3f}')"
   ]
  },
  {
   "cell_type": "markdown",
   "id": "22bfe69d",
   "metadata": {},
   "source": [
    "As seen, the extracted variance is in some agreement with the true one.\n",
    "\n",
    "Using the code above, you should now try to do the following exercises.\n",
    "\n",
    "```{exercise}\n",
    ":label: exercise:ols_example_4\n",
    "Keep working with the simple polynomial model $M = \\theta_0 + \\theta_1 x$\n",
    "\n",
    "Reduce the number of data to 2, i.e., set Nd=2. Do you reproduce the result from the simple example in the previous section?\n",
    "\n",
    "Increase the number of data to 1000. Do the OLS values of the model parameters and the sample variance approach the (true) parameters of the data-generating process? Is this to be expected? \n",
    "```\n",
    "\n",
    "```{exercise}\n",
    ":label: exercise:ols_example_5\n",
    "Set the data-generating process to be a 3rd-order polynomial and set limits of the the predictor variable to [-3,3]. Analyze the data using a 2nd-order polynomial model.\n",
    "\n",
    "Explore the limit of $N_d \\rightarrow \\infty$ by setting $N_d = 500$ or so. Will the OLS values of the model parameters and the sample variance approach the (true) values for some of the parameters? \n",
    "```"
   ]
  }
 ],
 "metadata": {
  "jupytext": {
   "formats": "md:myst",
   "text_representation": {
    "extension": ".md",
    "format_name": "myst"
   }
  },
  "kernelspec": {
   "display_name": "Python 3",
   "language": "python",
   "name": "python3"
  },
  "language_info": {
   "codemirror_mode": {
    "name": "ipython",
    "version": 3
   },
   "file_extension": ".py",
   "mimetype": "text/x-python",
   "name": "python",
   "nbconvert_exporter": "python",
   "pygments_lexer": "ipython3",
   "version": "3.11.13"
  },
  "source_map": [
   11,
   17,
   42,
   46,
   56,
   60,
   97,
   101,
   117,
   121,
   123,
   127,
   145,
   153,
   156,
   159,
   171,
   175,
   177,
   180,
   184,
   188,
   190,
   194,
   201
  ]
 },
 "nbformat": 4,
 "nbformat_minor": 5
}