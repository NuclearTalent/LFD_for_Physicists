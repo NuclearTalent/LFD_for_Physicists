{
 "cells": [
  {
   "cell_type": "markdown",
   "id": "6fafc7ea",
   "metadata": {},
   "source": [
    "(sec:ErrorPropagation)=\n",
    "# Error propagation\n",
    "\n",
    "In Bayesian statistics, error propagation is the process of determining how uncertainties in input parameters, which are characterized by probability distributions, influence the uncertainty (again, as a PDF) in the final output of a model. \n",
    "In general, Bayesian methods use the full PDFs to propagate uncertainty, in contrast to frequentist approaches.\n",
    "In this chapter we look at three aspects of error propagation plus solutions to exercises:\n",
    "* {ref}`sec:ErrorPropagationI`\n",
    "* {ref}`sec:BayesianAdvantages:ChangingVariables`\n",
    "* {ref}`sec:ErrorPropagationIII`\n",
    "* {ref}`sec:ErrorPropagationSolutions`"
   ]
  }
 ],
 "metadata": {
  "jupytext": {
   "formats": "md:myst",
   "text_representation": {
    "extension": ".md",
    "format_name": "myst"
   }
  },
  "kernelspec": {
   "display_name": "Python 3",
   "language": "python",
   "name": "python3"
  },
  "source_map": [
   11
  ]
 },
 "nbformat": 4,
 "nbformat_minor": 5
}