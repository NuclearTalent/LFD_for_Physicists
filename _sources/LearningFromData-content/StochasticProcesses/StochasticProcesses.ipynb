{
 "cells": [
  {
   "cell_type": "markdown",
   "id": "3685c4fa",
   "metadata": {},
   "source": [
    "(sec:StochasticProcesses)=\n",
    "# Stochastic processes\n",
    "\n",
    "```{epigraph}\n",
    "> \"Stochastic, or random, processes is the dynamic side of probability. What differential equations is to calculus, stochastic processes is to probability.\"\n",
    "\n",
    "-- Robert P. Dobrow, *Introduction to Stochastic Processes with R*\n",
    "```"
   ]
  }
 ],
 "metadata": {
  "jupytext": {
   "formats": "md:myst",
   "text_representation": {
    "extension": ".md",
    "format_name": "myst"
   }
  },
  "kernelspec": {
   "display_name": "Python 3",
   "language": "python",
   "name": "python3"
  },
  "source_map": [
   11
  ]
 },
 "nbformat": 4,
 "nbformat_minor": 5
}