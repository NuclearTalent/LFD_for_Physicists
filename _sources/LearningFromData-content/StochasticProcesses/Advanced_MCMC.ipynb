{
 "cells": [
  {
   "cell_type": "markdown",
   "id": "2471a395",
   "metadata": {},
   "source": [
    "(sec:Advanced_MCMC)=\n",
    "# Advanced Markov Chain Monte Carlo\n",
    "\n",
    "Here we look at more advanced MCMC, including diagnostics."
   ]
  }
 ],
 "metadata": {
  "jupytext": {
   "formats": "md:myst",
   "text_representation": {
    "extension": ".md",
    "format_name": "myst"
   }
  },
  "kernelspec": {
   "display_name": "Python 3",
   "language": "python",
   "name": "python3"
  },
  "source_map": [
   11
  ]
 },
 "nbformat": 4,
 "nbformat_minor": 5
}