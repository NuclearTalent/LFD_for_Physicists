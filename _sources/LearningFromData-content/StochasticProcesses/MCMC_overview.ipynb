{
 "cells": [
  {
   "cell_type": "markdown",
   "id": "85ee0e08",
   "metadata": {},
   "source": [
    "(sec:OverviewMCMC)=\n",
    "# Overview of Markov Chain Monte Carlo\n",
    "\n",
    "In these sections we give an overview of MCMC."
   ]
  }
 ],
 "metadata": {
  "jupytext": {
   "formats": "md:myst",
   "text_representation": {
    "extension": ".md",
    "format_name": "myst"
   }
  },
  "kernelspec": {
   "display_name": "Python 3",
   "language": "python",
   "name": "python3"
  },
  "source_map": [
   11
  ]
 },
 "nbformat": 4,
 "nbformat_minor": 5
}